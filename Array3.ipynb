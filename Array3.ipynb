{
  "nbformat": 4,
  "nbformat_minor": 0,
  "metadata": {
    "colab": {
      "provenance": [],
      "authorship_tag": "ABX9TyOb/214alL6GfHUi/YNsv37",
      "include_colab_link": true
    },
    "kernelspec": {
      "name": "python3",
      "display_name": "Python 3"
    },
    "language_info": {
      "name": "python"
    }
  },
  "cells": [
    {
      "cell_type": "markdown",
      "metadata": {
        "id": "view-in-github",
        "colab_type": "text"
      },
      "source": [
        "<a href=\"https://colab.research.google.com/github/Sathwik828/23CSBTB29/blob/main/Array3.ipynb\" target=\"_parent\"><img src=\"https://colab.research.google.com/assets/colab-badge.svg\" alt=\"Open In Colab\"/></a>"
      ]
    },
    {
      "cell_type": "code",
      "execution_count": 2,
      "metadata": {
        "colab": {
          "base_uri": "https://localhost:8080/"
        },
        "id": "5U5AogRn-uVx",
        "outputId": "81f92c3b-22d5-4267-9f9c-6dc376fa249f"
      },
      "outputs": [
        {
          "output_type": "stream",
          "name": "stdout",
          "text": [
            "Multiplication result: [ 5 12 21 32]\n",
            "Division result: [0.2        0.33333333 0.42857143 0.5       ]\n",
            "Power result : [ 1  4  9 16]\n"
          ]
        }
      ],
      "source": [
        "import numpy as np\n",
        "array1 = np.array([1, 2, 3, 4])\n",
        "array2 = np.array([5, 6, 7, 8])\n",
        "product = np.multiply(array1, array2)\n",
        "print(\"Multiplication result:\", product)\n",
        "quotient = np.divide(array1, array2)\n",
        "print(\"Division result:\", quotient)\n",
        "power = np.power(array1, 2)\n",
        "print(\"Power result :\", power)\n"
      ]
    },
    {
      "cell_type": "code",
      "source": [
        "import numpy as np\n",
        "array = np.array([0, np.pi/4, np.pi/2, np.pi])\n",
        "sin_values = np.sin(array)\n",
        "print(\"Sine values:\", sin_values)\n",
        "log_values = np.log(array[array > 0])\n",
        "print(\"Natural logarithm values:\", log_values)\n",
        "log2_values = np.log2(array[array > 0])\n",
        "print(\"Logarithm base 2 values:\", log2_values)\n",
        "exp_values = np.exp(array)\n",
        "print(\"Exponential values:\", exp_values)\n"
      ],
      "metadata": {
        "colab": {
          "base_uri": "https://localhost:8080/"
        },
        "id": "JHFWLr-EAAO1",
        "outputId": "f718e495-c0d0-4195-872a-6839c2ef1687"
      },
      "execution_count": 3,
      "outputs": [
        {
          "output_type": "stream",
          "name": "stdout",
          "text": [
            "Sine values: [0.00000000e+00 7.07106781e-01 1.00000000e+00 1.22464680e-16]\n",
            "Natural logarithm values: [-0.24156448  0.45158271  1.14472989]\n",
            "Logarithm base 2 values: [-0.34850387  0.65149613  1.65149613]\n",
            "Exponential values: [ 1.          2.19328005  4.81047738 23.14069263]\n"
          ]
        }
      ]
    },
    {
      "cell_type": "code",
      "source": [
        "import numpy as np\n",
        "array = np.array([0, np.pi/4, np.pi/2, np.pi])\n",
        "sin_values = np.sin(array)\n",
        "print(\"Type of sin_values:\", type(sin_values))\n",
        "log_values = np.log(array[array > 0])\n",
        "print(\"Type of log_values:\", type(log_values))\n",
        "log2_values = np.log2(array[array > 0])\n",
        "print(\"Type of log2_values:\", type(log2_values))\n",
        "exp_values = np.exp(array)\n",
        "print(\"Type of exp_values:\", type(exp_values))\n"
      ],
      "metadata": {
        "colab": {
          "base_uri": "https://localhost:8080/"
        },
        "id": "xnw5zSR7BXGL",
        "outputId": "95dd479c-c14c-490d-c950-30796440bc5e"
      },
      "execution_count": 4,
      "outputs": [
        {
          "output_type": "stream",
          "name": "stdout",
          "text": [
            "Type of sin_values: <class 'numpy.ndarray'>\n",
            "Type of log_values: <class 'numpy.ndarray'>\n",
            "Type of log2_values: <class 'numpy.ndarray'>\n",
            "Type of exp_values: <class 'numpy.ndarray'>\n"
          ]
        }
      ]
    },
    {
      "cell_type": "code",
      "source": [
        "import numpy as np\n",
        "array1 = np.array([1, 2, 3, 4])\n",
        "array2 = np.array([5, 6, 7, 8])\n",
        "sum_array = array1 + array2\n",
        "print(f\"Addition of Two Arrays:\\n{array1} + {array2} = {sum_array}\")\n"
      ],
      "metadata": {
        "colab": {
          "base_uri": "https://localhost:8080/"
        },
        "id": "CxW7x6wwBsNh",
        "outputId": "2c1513a3-cce8-4f04-a78d-3143a2ebc574"
      },
      "execution_count": 5,
      "outputs": [
        {
          "output_type": "stream",
          "name": "stdout",
          "text": [
            "Addition of Two Arrays:\n",
            "[1 2 3 4] + [5 6 7 8] = [ 6  8 10 12]\n"
          ]
        }
      ]
    }
  ]
}