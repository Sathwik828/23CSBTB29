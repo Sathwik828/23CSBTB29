{
  "nbformat": 4,
  "nbformat_minor": 0,
  "metadata": {
    "colab": {
      "provenance": [],
      "authorship_tag": "ABX9TyMLeS9MFpSkSGI+vRPdoHhv",
      "include_colab_link": true
    },
    "kernelspec": {
      "name": "python3",
      "display_name": "Python 3"
    },
    "language_info": {
      "name": "python"
    }
  },
  "cells": [
    {
      "cell_type": "markdown",
      "metadata": {
        "id": "view-in-github",
        "colab_type": "text"
      },
      "source": [
        "<a href=\"https://colab.research.google.com/github/Sathwik828/23CSBTB29/blob/main/Lab%203%20.ipynb\" target=\"_parent\"><img src=\"https://colab.research.google.com/assets/colab-badge.svg\" alt=\"Open In Colab\"/></a>"
      ]
    },
    {
      "cell_type": "code",
      "source": [
        "from collections import namedtuple, Counter, defaultdict\n",
        "import random\n",
        "import math\n",
        "import functools\n",
        "cache=functools.lru_cache(10**6)"
      ],
      "metadata": {
        "id": "Gv_9p_QX68D7"
      },
      "execution_count": 36,
      "outputs": []
    },
    {
      "cell_type": "markdown",
      "source": [
        " Implement the AI Game Strategy"
      ],
      "metadata": {
        "id": "ZrK19RR_5BZk"
      }
    },
    {
      "cell_type": "code",
      "execution_count": 37,
      "metadata": {
        "id": "8vcxkUIs0jQG"
      },
      "outputs": [],
      "source": [
        "\n",
        "class Game:\n",
        "  def actions(self, state ):\n",
        "    raise NotImplementedError\n",
        "  def result(self, state , move ):\n",
        "    raise NotImplementedError\n",
        "  def is_terminal (self, state ):\n",
        "    return not self.actions(state)\n",
        "  def utility(self, state , player ):\n",
        "    raise NotImplementedError"
      ]
    },
    {
      "cell_type": "markdown",
      "source": [
        "Implement a Player Game using the Game Class Constructor."
      ],
      "metadata": {
        "id": "EzzfYIsW6q2t"
      }
    },
    {
      "cell_type": "code",
      "source": [
        "def play_game (game , strategies : dict , verbose=False ):\n",
        "    state = game.initial\n",
        "    while not game. is_terminal (state ):\n",
        "      player = state. to_move\n",
        "    move = strategies [player ](game , state)\n",
        "    state = game.result(state , move)\n",
        "    if verbose:\n",
        "      print('Player', player , 'move', move)\n",
        "      print(state)\n",
        "    return state"
      ],
      "metadata": {
        "id": "_vz3U2s88S3H"
      },
      "execution_count": 46,
      "outputs": []
    },
    {
      "cell_type": "markdown",
      "source": [
        "Part 2 – Implement the Game Strategy Algorithms."
      ],
      "metadata": {
        "id": "oet0plKrBXsa"
      }
    },
    {
      "cell_type": "markdown",
      "source": [
        "Implement the MiniMax Search Algorithm"
      ],
      "metadata": {
        "id": "FcPJkbpPBcS8"
      }
    },
    {
      "cell_type": "code",
      "source": [
        "def minimax_search (game , state ):\n",
        "  player = state. tomove\n",
        "def maxvalue (state ):\n",
        "  if game. is_terminal (state ):\n",
        "    return game.utility(state , player), None\n",
        "    v, move = +infinity , None\n",
        "  for a in game.actions(state ):\n",
        "    v2 , = min_value (game.result(state , a))\n",
        "    if v2 > v:\n",
        "      v, move = v2 , a\n",
        "      return v, move\n",
        "def min_value (state ):\n",
        "  if game. is_terminal (state ):\n",
        "    return game.utility(state , player), None\n",
        "  v, move = -infinity , None\n",
        "  for a in game.actions(state ):\n",
        "      v2 , = max_value (game.result(state , a))\n",
        "  if v2 < v:\n",
        "    v, move = v2 , a\n",
        "    return v, move\n",
        "    return max_value (state)\n",
        "  infinity = math.inf"
      ],
      "metadata": {
        "id": "GIMpQbjUBV7y"
      },
      "execution_count": 39,
      "outputs": []
    },
    {
      "cell_type": "markdown",
      "source": [
        "Implement the Alpha-Beta Search Algorithm"
      ],
      "metadata": {
        "id": "DBcYbE-8FaIZ"
      }
    },
    {
      "cell_type": "code",
      "source": [
        "def alphabeta_search (game , state ):\n",
        "  player = state. to_move\n",
        "  def max_value (state , alpha , beta ):\n",
        "    if game. is_terminal (state ):\n",
        "      return game.utility(state , player), None\n",
        "      v, move = infinity , None\n",
        "      for a in game.actions(state ):\n",
        "        v2 , = min_value (game.result(state , a), alpha , beta)\n",
        "        if v2 > v:\n",
        "          v, move = v2 , a\n",
        "          alpha = max(alpha , v)\n",
        "          if v >= beta:\n",
        "            return v, move\n",
        "            return v, move\n",
        "            def min_value (state , alpha , beta ):\n",
        "              if game. is_terminal (state ):\n",
        "                return game.utility(state , player), None\n",
        "                v, move = +infinity , None\n",
        "                for a in game.actions(state ):\n",
        "                  v2 , = max_value (game.result(state , a), alpha , beta)\n",
        "                  if v2 < v:\n",
        "                    v, move = v2 , a\n",
        "                    beta = min(beta , v)\n",
        "                    if v <= alpha:\n",
        "                      return v, move\n",
        "                      return v, move\n",
        "                      return max_value (state , infinity , +infinity )"
      ],
      "metadata": {
        "id": "nXNORUEwFY6R"
      },
      "execution_count": 40,
      "outputs": []
    },
    {
      "cell_type": "markdown",
      "source": [
        "Implement the Game Strategy using TicTocToe."
      ],
      "metadata": {
        "id": "bSoVuI80F-rs"
      }
    },
    {
      "cell_type": "markdown",
      "source": [
        "Implement TicToCToe game using init , actions, result, is terminal, utility,\n",
        "display constructors"
      ],
      "metadata": {
        "id": "BAfJehbHGJeM"
      }
    },
    {
      "cell_type": "code",
      "source": [
        "class TicTacToe(Game):\n",
        "\n",
        "\n",
        "    def __init__(self, height=3, width=3, k=3):\n",
        "        self.k = k  # k in a row\n",
        "        self.squares = {(x, y) for x in range(width) for y in range(height)}\n",
        "        self.initial = Board(height=height, width=width, to_move='X', utility=0)\n",
        "\n",
        "    def actions(self, board):\n",
        "\n",
        "        return self.squares - set(board)\n",
        "\n",
        "    def result(self, board, square):\n",
        "\n",
        "        player = board.to_move\n",
        "        board = board.new({square: player}, to_move=('O' if player == 'X' else 'X'))\n",
        "        win = self.k_in_row(board, player, square, self.k)\n",
        "        board.utility = (0 if not win else +1 if player == 'X' else -1)\n",
        "        return board\n",
        "\n",
        "    def utility(self, board, player):\n",
        "\n",
        "        return board.utility if player == 'X' else -board.utility\n",
        "\n",
        "    def is_terminal(self, board):\n",
        "\n",
        "        return board.utility != 0 or len(self.squares) == len(board)\n",
        "\n",
        "    def display(self, board):\n",
        "        print(board)\n",
        "\n",
        "    def k_in_row(self, board, player, square, k):\n",
        "\n",
        "        def in_row(x, y, dx, dy):\n",
        "            return 0 if board.get((x, y)) != player else 1 + in_row(x + dx, y + dy, dx, dy)\n",
        "\n",
        "        return any(in_row(*square, dx, dy) + in_row(*square, -dx, -dy) - 1 >= k\n",
        "                   for (dx, dy) in [(0, 1), (1, 0), (1, 1), (1, -1)])\n"
      ],
      "metadata": {
        "id": "BFDu3oGQFy71"
      },
      "execution_count": 44,
      "outputs": []
    },
    {
      "cell_type": "markdown",
      "source": [
        "Implement a Game Board using defaultdict using init , new, missing , hash ,\n",
        "-repr-"
      ],
      "metadata": {
        "id": "KVe4Rq3jHFkZ"
      }
    },
    {
      "cell_type": "code",
      "source": [
        "from collections import defaultdict\n",
        "\n",
        "class Board(defaultdict):\n",
        "\n",
        "    empty = '.'\n",
        "    off = '#'\n",
        "\n",
        "    def __init__(self, width=8, height=8, to_move=None, **kwds):\n",
        "        super().__init__(self.missing)\n",
        "        self.update(width=width, height=height, to_move=to_move, **kwds)\n",
        "\n",
        "    def new(self, changes: dict, **kwds) -> 'Board':\n",
        "\n",
        "        board = Board(width=self.width, height=self.height, **kwds)\n",
        "        board.update(self)\n",
        "        board.update(changes)\n",
        "        return board\n",
        "\n",
        "    def missing(self, loc):\n",
        "        x, y = loc\n",
        "        if 0 <= x < self['width'] and 0 <= y < self['height']:\n",
        "            return self.empty\n",
        "        else:\n",
        "            return self.off\n",
        "\n",
        "    def __hash__(self):\n",
        "        return hash(tuple(sorted(self.items()))) + hash(self['to_move'])\n",
        "\n",
        "    def __repr__(self):\n",
        "        def row(y):\n",
        "            return ' '.join(self[x, y] for x in range(self['width']))\n",
        "        return '\\n'.join(map(row, range(self['height']))) + '\\n'\n"
      ],
      "metadata": {
        "id": "zFlY-EFcG3eD"
      },
      "execution_count": 42,
      "outputs": []
    },
    {
      "cell_type": "markdown",
      "source": [
        "Implement random player(game,state) and player(search algorithm)"
      ],
      "metadata": {
        "id": "TQ-w0UqkHtvI"
      }
    },
    {
      "cell_type": "code",
      "source": [
        "import random\n",
        "\n",
        "def random_player(game, state):\n",
        "\n",
        "    return random.choice(list(game.actions(state)))\n",
        "\n",
        "def player(search_algorithm):\n",
        "\n",
        "    return lambda game, state: search_algorithm(game, state)[1]\n"
      ],
      "metadata": {
        "id": "p5HRlH3nHlpE"
      },
      "execution_count": 43,
      "outputs": []
    }
  ]
}