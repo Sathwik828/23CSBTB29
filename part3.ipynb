{
  "nbformat": 4,
  "nbformat_minor": 0,
  "metadata": {
    "colab": {
      "provenance": [],
      "authorship_tag": "ABX9TyPQ9nthjN5TiaAsX15oMqr/",
      "include_colab_link": true
    },
    "kernelspec": {
      "name": "python3",
      "display_name": "Python 3"
    },
    "language_info": {
      "name": "python"
    }
  },
  "cells": [
    {
      "cell_type": "markdown",
      "metadata": {
        "id": "view-in-github",
        "colab_type": "text"
      },
      "source": [
        "<a href=\"https://colab.research.google.com/github/Sathwik828/23CSBTB29/blob/main/part3.ipynb\" target=\"_parent\"><img src=\"https://colab.research.google.com/assets/colab-badge.svg\" alt=\"Open In Colab\"/></a>"
      ]
    },
    {
      "cell_type": "code",
      "execution_count": 1,
      "metadata": {
        "colab": {
          "base_uri": "https://localhost:8080/"
        },
        "id": "dqRdJ5gv4Tnf",
        "outputId": "4d0fa054-ddc2-48af-f99c-c45cf3d6a0df"
      },
      "outputs": [
        {
          "output_type": "stream",
          "name": "stdout",
          "text": [
            "     SID Student Name  Age       course  contact No  Batch No semester\n",
            "0   2001            A   19           os  7032463687        29     2--1\n",
            "1   2002            B   19         Aiml  6630851291        29     2--1\n",
            "2   2003            C   19           Ds  7412569857        29     2--1\n",
            "3   2004            D   19          CSE  8796215371        29     2--1\n",
            "4   2005            E   19          ECE  8796215372        29     2--1\n",
            "5   2006            F   19        Civil  8796215373        29     2--1\n",
            "6   2007            G   19          CSE  8796215374        29     2--1\n",
            "7   2008            H   19           Ls  8796215375        29     2--1\n",
            "8   2009            I   19   Lifeskills  8796215376        29     2--1\n",
            "9   2010            J   19           CN  8796215377        29     2--1\n",
            "10  2011            K   19        cloud  8796215378        29     2--1\n",
            "11  2012            L   19          Mem  8796215379        29     2--1\n",
            "12  2013            M   19         java  8796215380        29     2--1\n",
            "13  2014            N   19            c  8796215381        29     2--1\n",
            "14  2015            O   19          C++  8796215382        29     2--1\n",
            "15  2016            P   19       python  8796215383        29     2--1\n",
            "16  2017            Q   19         Html  8796215384        29     2--1\n",
            "17  2018            R   19          DSA  8796215385        29     2--1\n",
            "18  2019            S   19  java scrpit  8796215386        29     2--1\n",
            "19  2020            T   19      Hacking  8796215387        29     2--1\n"
          ]
        }
      ],
      "source": [
        "import pandas as pd\n",
        "data=pd.read_excel(\"/content/Aiml lab2.xlsx\")\n",
        "print(data)"
      ]
    },
    {
      "cell_type": "code",
      "source": [
        "import pandas as pd\n",
        "data=pd.read_csv(\"/content/ml 1.csv\")\n",
        "print(data)"
      ],
      "metadata": {
        "colab": {
          "base_uri": "https://localhost:8080/"
        },
        "id": "BUgSHXCd5iuq",
        "outputId": "d55c5d95-4971-4d45-d0b2-ba2e96973032"
      },
      "execution_count": 4,
      "outputs": [
        {
          "output_type": "stream",
          "name": "stdout",
          "text": [
            "     SID Student Name  Age       course  contact No  Batch No semester\n",
            "0   2001            A   19           os  7032463687        29     2--1\n",
            "1   2002            B   19         Aiml  6630851291        29     2--1\n",
            "2   2003            C   19           Ds  7412569857        29     2--1\n",
            "3   2004            D   19          CSE  8796215371        29     2--1\n",
            "4   2005            E   19          ECE  8796215372        29     2--1\n",
            "5   2006            F   19        Civil  8796215373        29     2--1\n",
            "6   2007            G   19          CSE  8796215374        29     2--1\n",
            "7   2008            H   19           Ls  8796215375        29     2--1\n",
            "8   2009            I   19   Lifeskills  8796215376        29     2--1\n",
            "9   2010            J   19           CN  8796215377        29     2--1\n",
            "10  2011            K   19        cloud  8796215378        29     2--1\n",
            "11  2012            L   19          Mem  8796215379        29     2--1\n",
            "12  2013            M   19         java  8796215380        29     2--1\n",
            "13  2014            N   19            c  8796215381        29     2--1\n",
            "14  2015            O   19          C++  8796215382        29     2--1\n",
            "15  2016            P   19       python  8796215383        29     2--1\n",
            "16  2017            Q   19         Html  8796215384        29     2--1\n",
            "17  2018            R   19          DSA  8796215385        29     2--1\n",
            "18  2019            S   19  java scrpit  8796215386        29     2--1\n",
            "19  2020            T   19      Hacking  8796215387        29     2--1\n"
          ]
        }
      ]
    },
    {
      "cell_type": "code",
      "source": [
        "import pandas as pd\n",
        "data=pd.read_csv(\"/content/heart.csv\")\n",
        "print(data)\n",
        "print(data.head())"
      ],
      "metadata": {
        "colab": {
          "base_uri": "https://localhost:8080/"
        },
        "id": "MnqqIZP565si",
        "outputId": "f487f5d5-2dd0-4815-a3c5-f2678df3d76e"
      },
      "execution_count": 6,
      "outputs": [
        {
          "output_type": "stream",
          "name": "stdout",
          "text": [
            "      age  sex  cp  trestbps  chol  fbs  restecg  thalach  exang  oldpeak  \\\n",
            "0      52    1   0       125   212    0        1      168      0      1.0   \n",
            "1      53    1   0       140   203    1        0      155      1      3.1   \n",
            "2      70    1   0       145   174    0        1      125      1      2.6   \n",
            "3      61    1   0       148   203    0        1      161      0      0.0   \n",
            "4      62    0   0       138   294    1        1      106      0      1.9   \n",
            "...   ...  ...  ..       ...   ...  ...      ...      ...    ...      ...   \n",
            "1020   59    1   1       140   221    0        1      164      1      0.0   \n",
            "1021   60    1   0       125   258    0        0      141      1      2.8   \n",
            "1022   47    1   0       110   275    0        0      118      1      1.0   \n",
            "1023   50    0   0       110   254    0        0      159      0      0.0   \n",
            "1024   54    1   0       120   188    0        1      113      0      1.4   \n",
            "\n",
            "      slope  ca  thal  target  \n",
            "0         2   2     3       0  \n",
            "1         0   0     3       0  \n",
            "2         0   0     3       0  \n",
            "3         2   1     3       0  \n",
            "4         1   3     2       0  \n",
            "...     ...  ..   ...     ...  \n",
            "1020      2   0     2       1  \n",
            "1021      1   1     3       0  \n",
            "1022      1   1     2       0  \n",
            "1023      2   0     2       1  \n",
            "1024      1   1     3       0  \n",
            "\n",
            "[1025 rows x 14 columns]\n",
            "   age  sex  cp  trestbps  chol  fbs  restecg  thalach  exang  oldpeak  slope  \\\n",
            "0   52    1   0       125   212    0        1      168      0      1.0      2   \n",
            "1   53    1   0       140   203    1        0      155      1      3.1      0   \n",
            "2   70    1   0       145   174    0        1      125      1      2.6      0   \n",
            "3   61    1   0       148   203    0        1      161      0      0.0      2   \n",
            "4   62    0   0       138   294    1        1      106      0      1.9      1   \n",
            "\n",
            "   ca  thal  target  \n",
            "0   2     3       0  \n",
            "1   0     3       0  \n",
            "2   0     3       0  \n",
            "3   1     3       0  \n",
            "4   3     2       0  \n"
          ]
        }
      ]
    },
    {
      "cell_type": "code",
      "source": [
        "import pandas as pd\n",
        "data=pd.read_table(\"/content/part3.txt\")\n",
        "print(data)\n",
        "print(data.head())"
      ],
      "metadata": {
        "colab": {
          "base_uri": "https://localhost:8080/"
        },
        "id": "6lbM4FhS9QGi",
        "outputId": "b6e37a8e-0786-4595-d138-05c135d11c66"
      },
      "execution_count": 7,
      "outputs": [
        {
          "output_type": "stream",
          "name": "stdout",
          "text": [
            "     SID Student Name  Age       course  contact No  Batch No semester\n",
            "0   2001            A   19           os  7032463687        29     2--1\n",
            "1   2002            B   19         Aiml  6630851291        29     2--1\n",
            "2   2003            C   19           Ds  7412569857        29     2--1\n",
            "3   2004            D   19          CSE  8796215371        29     2--1\n",
            "4   2005            E   19          ECE  8796215372        29     2--1\n",
            "5   2006            F   19        Civil  8796215373        29     2--1\n",
            "6   2007            G   19          CSE  8796215374        29     2--1\n",
            "7   2008            H   19           Ls  8796215375        29     2--1\n",
            "8   2009            I   19   Lifeskills  8796215376        29     2--1\n",
            "9   2010            J   19           CN  8796215377        29     2--1\n",
            "10  2011            K   19        cloud  8796215378        29     2--1\n",
            "11  2012            L   19          Mem  8796215379        29     2--1\n",
            "12  2013            M   19         java  8796215380        29     2--1\n",
            "13  2014            N   19            c  8796215381        29     2--1\n",
            "14  2015            O   19          C++  8796215382        29     2--1\n",
            "15  2016            P   19       python  8796215383        29     2--1\n",
            "16  2017            Q   19         Html  8796215384        29     2--1\n",
            "17  2018            R   19          DSA  8796215385        29     2--1\n",
            "18  2019            S   19  java scrpit  8796215386        29     2--1\n",
            "19  2020            T   19      Hacking  8796215387        29     2--1\n",
            "    SID Student Name  Age course  contact No  Batch No semester\n",
            "0  2001            A   19     os  7032463687        29     2--1\n",
            "1  2002            B   19   Aiml  6630851291        29     2--1\n",
            "2  2003            C   19     Ds  7412569857        29     2--1\n",
            "3  2004            D   19    CSE  8796215371        29     2--1\n",
            "4  2005            E   19    ECE  8796215372        29     2--1\n"
          ]
        }
      ]
    },
    {
      "cell_type": "code",
      "source": [
        "import pandas as pd\n",
        "data=pd.read_csv(\"/content/games1.csv\")\n",
        "print(data)\n",
        "print(data.head())"
      ],
      "metadata": {
        "colab": {
          "base_uri": "https://localhost:8080/"
        },
        "id": "a9Gc5ccM-taX",
        "outputId": "e5b7feff-d820-4a4f-fbd8-98f7053b305f"
      },
      "execution_count": 10,
      "outputs": [
        {
          "output_type": "stream",
          "name": "stdout",
          "text": [
            "                                    Game Name       Genre         Platform  \\\n",
            "0                   Sekiro: Shadows Die Twice      Sports  Nintendo Switch   \n",
            "1                                     Control      Puzzle  Nintendo Switch   \n",
            "2                                    Among Us    Strategy  Nintendo Switch   \n",
            "3                Call of Duty: Modern Warfare     Stealth      PlayStation   \n",
            "4                           League of Legends  Simulation               PC   \n",
            "...                                       ...         ...              ...   \n",
            "4995  The Legend of Zelda: Breath of the Wild      Sports               PC   \n",
            "4996                Assassin's Creed Valhalla     Stealth           Mobile   \n",
            "4997             Fall Guys: Ultimate Knockout      Sports           Mobile   \n",
            "4998                            Borderlands 3  Platformer             Xbox   \n",
            "4999         Counter-Strike: Global Offensive      Action      PlayStation   \n",
            "\n",
            "      Release Year  User Rating  \n",
            "0             2014     9.654719  \n",
            "1             2000     3.457386  \n",
            "2             2007     5.367622  \n",
            "3             2005     1.240325  \n",
            "4             2021     3.535476  \n",
            "...            ...          ...  \n",
            "4995          2013     6.352838  \n",
            "4996          2020     1.852730  \n",
            "4997          2021     5.268067  \n",
            "4998          2018     4.558510  \n",
            "4999          2022     3.443231  \n",
            "\n",
            "[5000 rows x 5 columns]\n",
            "                      Game Name       Genre         Platform  Release Year  \\\n",
            "0     Sekiro: Shadows Die Twice      Sports  Nintendo Switch          2014   \n",
            "1                       Control      Puzzle  Nintendo Switch          2000   \n",
            "2                      Among Us    Strategy  Nintendo Switch          2007   \n",
            "3  Call of Duty: Modern Warfare     Stealth      PlayStation          2005   \n",
            "4             League of Legends  Simulation               PC          2021   \n",
            "\n",
            "   User Rating  \n",
            "0     9.654719  \n",
            "1     3.457386  \n",
            "2     5.367622  \n",
            "3     1.240325  \n",
            "4     3.535476  \n"
          ]
        }
      ]
    }
  ]
}